{
  "nbformat": 4,
  "nbformat_minor": 0,
  "metadata": {
    "colab": {
      "name": "Tic-Tac-Toe with Neural Network.ipynb",
      "provenance": [],
      "collapsed_sections": []
    },
    "kernelspec": {
      "name": "python3",
      "display_name": "Python 3"
    },
    "language_info": {
      "name": "python"
    }
  },
  "cells": [
    {
      "cell_type": "markdown",
      "source": [
        "This project will show how adaptable neural networks can be, we will now attemp to use a neural network to learn the optimal move for Tic-Tac-Toe. We will approach this knowing that Tic-Tac-Toe is a deterministic game and that the optimal moves are already known.\n",
        "\n",
        "To train our model, we will use a list of board positions followed by the optimal response for a number of different boards. We can reduce the amount of boards to train on by considering only board position that are differnt with regard to symmetry. The non-identity transformations of a Tic-Tac-Toe board are a rotation (in either direction ) of 90 degress, 180 degrees and 270 degress a horizontal reflection and a vertical reflection. Given this idea, we will use a shortlist of boards with optimal move, apply 2 random transformations, and then feed that into our neural network for learning. \n",
        "\n",
        "Since Tic-Tac-Toe is a deterministic game, it is worth noting that whoever goes first should either win or draw. We will hope a model that can respond to our moves optimally and ultimately result in a raw.\n",
        "\n",
        "To check how our model is performing, we will do 2 things. The first check we will perform is to remove a position and an optimal move row from our training set. This will allow us to see if the neural network can generalize a move it has not seen before. The second way to evaluate our model is to actually play a game agasint it at the end"
      ],
      "metadata": {
        "id": "EdRvTbCmKKMt"
      }
    },
    {
      "cell_type": "markdown",
      "source": [
        "https://github.com/lahoangquy/Tic-tac-toe-with-Neural-Network-YouTube"
      ],
      "metadata": {
        "id": "7QpO7W72M7N_"
      }
    },
    {
      "cell_type": "code",
      "execution_count": 1,
      "metadata": {
        "colab": {
          "base_uri": "https://localhost:8080/"
        },
        "id": "HRoKOxi9JcBq",
        "outputId": "39af8427-7a24-4183-83d4-e2cb1f4c9857"
      },
      "outputs": [
        {
          "output_type": "stream",
          "name": "stdout",
          "text": [
            "Mounted at /content/drive\n"
          ]
        }
      ],
      "source": [
        "from google.colab import drive\n",
        "drive.mount('/content/drive')"
      ]
    },
    {
      "cell_type": "code",
      "source": [
        "%cd /content/drive/My Drive/Colab Notebooks"
      ],
      "metadata": {
        "colab": {
          "base_uri": "https://localhost:8080/"
        },
        "id": "9g6F8-8CMT_f",
        "outputId": "3861966c-98ec-4c8b-ac01-9028da7736ad"
      },
      "execution_count": 2,
      "outputs": [
        {
          "output_type": "stream",
          "name": "stdout",
          "text": [
            "/content/drive/My Drive/Colab Notebooks\n"
          ]
        }
      ]
    },
    {
      "cell_type": "code",
      "source": [
        "import tensorflow as tf\n",
        "#import matplotlib.pyplot as plt\n",
        "import csv\n",
        "import numpy as np\n",
        "import random"
      ],
      "metadata": {
        "id": "140TT5isMstn"
      },
      "execution_count": 3,
      "outputs": []
    },
    {
      "cell_type": "code",
      "source": [
        "# Definition of X's, O's, and empty spots:\n",
        "# X = 1\n",
        "# O = -1\n",
        "# empty = 0\n",
        "# response on 1-9 grid for placement of next '1'\n",
        "\n",
        "# For example, the 'test_board' is:\n",
        "#\n",
        "#   O  |  -  |  -\n",
        "# -----------------\n",
        "#   X  |  O  |  O\n",
        "# -----------------\n",
        "#   -  |  -  |  X\n",
        "#\n",
        "# board above = [-1, 0, 0, 1, -1, -1, 0, 0, 1]\n",
        "# Optimal response would be position 6, where\n",
        "# the position numbers are:\n",
        "#\n",
        "#   0  |  1  |  2\n",
        "# -----------------\n",
        "#   3  |  4  |  5\n",
        "# -----------------\n",
        "#   6  |  7  |  8\n",
        "\n",
        "\n",
        "# Test board optimal response:\n",
        "#response = 6\n",
        "# Set batch size and five different symmetries of board positions"
      ],
      "metadata": {
        "id": "TmFsjpqGMvKl"
      },
      "execution_count": null,
      "outputs": []
    },
    {
      "cell_type": "code",
      "source": [
        "batch_size = 50\n"
      ],
      "metadata": {
        "id": "fqC61TNTNZ59"
      },
      "execution_count": 4,
      "outputs": []
    },
    {
      "cell_type": "markdown",
      "source": [
        "To make visualizng the boards a bit easier, we will need to create a function taht outputs Tic-Tac-Toe boards with Xs and Os"
      ],
      "metadata": {
        "id": "6Kq0lV47NhzM"
      }
    },
    {
      "cell_type": "code",
      "source": [
        "# Print a board\n",
        "def print_board(board):\n",
        "    symbols = ['O', ' ', 'X']\n",
        "    board_plus1 = [int(x) + 1 for x in board]\n",
        "    board_line1 = ' {} | {} | {}'.format(symbols[board_plus1[0]],\n",
        "                                         symbols[board_plus1[1]],\n",
        "                                         symbols[board_plus1[2]])\n",
        "    board_line2 = ' {} | {} | {}'.format(symbols[board_plus1[3]],\n",
        "                                         symbols[board_plus1[4]],\n",
        "                                         symbols[board_plus1[5]])\n",
        "    board_line3 = ' {} | {} | {}'.format(symbols[board_plus1[6]],\n",
        "                                         symbols[board_plus1[7]],\n",
        "                                         symbols[board_plus1[8]])\n",
        "    print(board_line1)\n",
        "    print('___________')\n",
        "    print(board_line2)\n",
        "    print('___________')\n",
        "    print(board_line3)"
      ],
      "metadata": {
        "id": "TisBsyTMNqO9"
      },
      "execution_count": 5,
      "outputs": []
    }
  ]
}