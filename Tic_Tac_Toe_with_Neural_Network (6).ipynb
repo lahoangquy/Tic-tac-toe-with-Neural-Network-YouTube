{
  "nbformat": 4,
  "nbformat_minor": 0,
  "metadata": {
    "colab": {
      "provenance": [],
      "collapsed_sections": []
    },
    "kernelspec": {
      "name": "python3",
      "display_name": "Python 3"
    },
    "language_info": {
      "name": "python"
    },
    "accelerator": "GPU",
    "gpuClass": "standard"
  },
  "cells": [
    {
      "cell_type": "markdown",
      "source": [
        "This project will show how adaptable neural networks can be, we will now attemp to use a neural network to learn the optimal move for Tic-Tac-Toe. We will approach this knowing that Tic-Tac-Toe is a deterministic game and that the optimal moves are already known.\n",
        "\n",
        "To train our model, we will use a list of board positions followed by the optimal response for a number of different boards. We can reduce the amount of boards to train on by considering only board position that are differnt with regard to symmetry. The non-identity transformations of a Tic-Tac-Toe board are a rotation (in either direction ) of 90 degress, 180 degrees and 270 degress a horizontal reflection and a vertical reflection. Given this idea, we will use a shortlist of boards with optimal move, apply 2 random transformations, and then feed that into our neural network for learning. \n",
        "\n",
        "Since Tic-Tac-Toe is a deterministic game, it is worth noting that whoever goes first should either win or draw. We will hope a model that can respond to our moves optimally and ultimately result in a raw.\n",
        "\n",
        "To check how our model is performing, we will do 2 things. The first check we will perform is to remove a position and an optimal move row from our training set. This will allow us to see if the neural network can generalize a move it has not seen before. The second way to evaluate our model is to actually play a game agasint it at the end"
      ],
      "metadata": {
        "id": "EdRvTbCmKKMt"
      }
    },
    {
      "cell_type": "markdown",
      "source": [
        "https://github.com/lahoangquy/Tic-tac-toe-with-Neural-Network-YouTube"
      ],
      "metadata": {
        "id": "7QpO7W72M7N_"
      }
    },
    {
      "cell_type": "code",
      "execution_count": null,
      "metadata": {
        "colab": {
          "base_uri": "https://localhost:8080/"
        },
        "id": "HRoKOxi9JcBq",
        "outputId": "aec6f5f7-5e82-4a06-fe79-d61027af47d2"
      },
      "outputs": [
        {
          "output_type": "stream",
          "name": "stdout",
          "text": [
            "Mounted at /content/drive\n"
          ]
        }
      ],
      "source": [
        "from google.colab import drive\n",
        "drive.mount('/content/drive')"
      ]
    },
    {
      "cell_type": "code",
      "source": [
        "%cd /content/drive/My Drive/Colab Notebooks"
      ],
      "metadata": {
        "colab": {
          "base_uri": "https://localhost:8080/"
        },
        "id": "9g6F8-8CMT_f",
        "outputId": "fbd72d1f-f52e-4d7b-dcf7-7aa7c3928334"
      },
      "execution_count": null,
      "outputs": [
        {
          "output_type": "stream",
          "name": "stdout",
          "text": [
            "/content/drive/My Drive/Colab Notebooks\n"
          ]
        }
      ]
    },
    {
      "cell_type": "code",
      "source": [
        "import tensorflow as tf\n",
        "#import matplotlib.pyplot as plt\n",
        "import csv\n",
        "import numpy as np\n",
        "import random"
      ],
      "metadata": {
        "id": "9-e058kXtFOJ"
      },
      "execution_count": null,
      "outputs": []
    },
    {
      "cell_type": "code",
      "source": [
        "# Print a board\n",
        "def print_board(board):\n",
        "    symbols = ['O', ' ', 'X']\n",
        "    board_plus1 = [int(x) + 1 for x in board]\n",
        "    board_line1 = ' {} | {} | {}'.format(symbols[board_plus1[0]],\n",
        "                                         symbols[board_plus1[1]],\n",
        "                                         symbols[board_plus1[2]])\n",
        "    board_line2 = ' {} | {} | {}'.format(symbols[board_plus1[3]],\n",
        "                                         symbols[board_plus1[4]],\n",
        "                                         symbols[board_plus1[5]])\n",
        "    board_line3 = ' {} | {} | {}'.format(symbols[board_plus1[6]],\n",
        "                                         symbols[board_plus1[7]],\n",
        "                                         symbols[board_plus1[8]])\n",
        "    print(board_line1)\n",
        "    print('___________')\n",
        "    print(board_line2)\n",
        "    print('___________')\n",
        "    print(board_line3)\n",
        "# Data Augmentation\n",
        "symmetry = ['rotate180', 'rotate90', 'rotate270', 'flip_v', 'flip_h']\n",
        "\n",
        "# Given a board, a response, and a transformation, get the new board+response\n",
        "def get_symmetry(board, play_response, transformation):\n",
        "    \"\"\"\n",
        "    :param board: list of integers 9 long:\n",
        "     opposing mark = -1\n",
        "     friendly mark = 1\n",
        "     empty space = 0\n",
        "    :param play_response: integer of where response is (0-8)\n",
        "    :param transformation: one of five transformations on a board:\n",
        "     'rotate180', 'rotate90', 'rotate270', 'flip_v', 'flip_h'\n",
        "    :return: tuple: (new_board, new_response)\n",
        "    \"\"\"\n",
        "    if transformation == 'rotate180':\n",
        "        new_response = 8 - play_response\n",
        "        return board[::-1], new_response\n",
        "    elif transformation == 'rotate90':\n",
        "        new_response = [6, 3, 0, 7, 4, 1, 8, 5, 2].index(play_response)\n",
        "        tuple_board = list(zip(*[board[6:9], board[3:6], board[0:3]]))\n",
        "        return [value for item in tuple_board for value in item], new_response\n",
        "    elif transformation == 'rotate270':\n",
        "        new_response = [2, 5, 8, 1, 4, 7, 0, 3, 6].index(play_response)\n",
        "        tuple_board = list(zip(*[board[0:3], board[3:6], board[6:9]]))[::-1]\n",
        "        return [value for item in tuple_board for value in item], new_response\n",
        "    elif transformation == 'flip_v':\n",
        "        new_response = [6, 7, 8, 3, 4, 5, 0, 1, 2].index(play_response)\n",
        "        return board[6:9] + board[3:6] + board[0:3], new_response\n",
        "    elif transformation == 'flip_h':  # flip_h = rotate180, then flip_v\n",
        "        new_response = [2, 1, 0, 5, 4, 3, 8, 7, 6].index(play_response)\n",
        "        new_board = board[::-1]\n",
        "        return new_board[6:9] + new_board[3:6] + new_board[0:3], new_response\n",
        "    else:\n",
        "        raise ValueError('Method not implemented.')\n",
        "\n",
        "\n",
        "# Read in board move csv file\n",
        "def get_moves_from_csv(csv_file):\n",
        "    \"\"\"\n",
        "    :param csv_file: csv file location containing the boards w/ responses\n",
        "    :return: moves: list of moves with index of best response\n",
        "    \"\"\"\n",
        "    play_moves = []\n",
        "    with open(csv_file, 'rt') as csvfile:\n",
        "        reader = csv.reader(csvfile, delimiter=',')\n",
        "        for row in reader:\n",
        "            play_moves.append(([int(x) for x in row[0:9]], int(row[9])))\n",
        "    return play_moves\n",
        "\n",
        "\n",
        "# Get random board with optimal move\n",
        "def get_rand_move(play_moves, rand_transforms=2):\n",
        "    \"\"\"\n",
        "    :param play_moves: list of the boards w/responses\n",
        "    :param rand_transforms: how many random transforms performed on each\n",
        "    :return: (board, response), board is a list of 9 integers, response is 1 int\n",
        "    \"\"\"\n",
        "    (board, play_response) = random.choice(play_moves)\n",
        "    possible_transforms = ['rotate90', 'rotate180', 'rotate270', 'flip_v', 'flip_h']\n",
        "    for _ in range(rand_transforms):\n",
        "        random_transform = random.choice(possible_transforms)\n",
        "        (board, play_response) = get_symmetry(board, play_response, random_transform)\n",
        "    return board, play_response\n",
        "\n",
        "# Get list of optimal moves w/ responses\n",
        "moves = get_moves_from_csv('base_tic_tac_toe_moves.csv')\n",
        "# Create a train set:\n",
        "train_length = 500\n",
        "train_set = []\n",
        "for t in range(train_length):\n",
        "    train_set.append(get_rand_move(moves))\n",
        "\n",
        "# To see if the network learns anything new, we will remove\n",
        "# all instances of the board [-1, 0, 0, 1, -1, -1, 0, 0, 1],\n",
        "# which the optimal response will be the index '6'.  We will\n",
        "# Test this at the end.\n",
        "test_board = [-1, 0, 0, 1, -1, -1, 0, 0, 1]\n",
        "train_set = [x for x in train_set if x[0] != test_board]\n",
        "\n",
        "def init_weights(shape):\n",
        "    return tf.Variable(tf.random.normal(shape))\n",
        "\n",
        "A1 = init_weights([9, 81])\n",
        "bias1 = init_weights([81])\n",
        "A2 = init_weights([81, 9])\n",
        "bias2 = init_weights([9])\n",
        "\n",
        "# Initialize input data\n",
        "X = tf.keras.Input(dtype=tf.float32, batch_input_shape=[None, 9])\n",
        "hidden_output = tf.keras.layers.Lambda(lambda x: tf.nn.sigmoid(tf.add(tf.matmul(x, A1), bias1)))(X)\n",
        "# Note: we don't take the softmax at the end because our cost function does that for us\n",
        "final_output = tf.keras.layers.Lambda(lambda x: tf.add(tf.matmul(x, A2), bias2))(hidden_output)\n",
        "model = tf.keras.Model(inputs=X, outputs=final_output, name=\"tic_tac_toe_neural_network\")\n",
        "\n",
        "optimizer = tf.keras.optimizers.SGD(0.025)\n",
        "\n",
        "loss_vec = []\n",
        "for i in range(10000):\n",
        "    rand_indices = np.random.choice(range(len(train_set)), batch_size, replace=False)\n",
        "    batch_data = [train_set[i] for i in rand_indices]\n",
        "    x_input = [x[0] for x in batch_data]\n",
        "    y_target = np.array([y[1] for y in batch_data])\n",
        "\n",
        "    # Open a GradientTape.\n",
        "    with tf.GradientTape(persistent=True) as tape:\n",
        "\n",
        "        # Forward pass.\n",
        "        output = model(np.array(x_input, dtype=float))\n",
        "\n",
        "        # Apply loss function (Cross Entropy loss)\n",
        "        loss = tf.reduce_mean(tf.nn.sparse_softmax_cross_entropy_with_logits(logits=output, labels=y_target))\n",
        "        loss_vec.append(loss)\n",
        "\n",
        "    # Get gradients of loss with reference to the weights and bias variables to adjust.\n",
        "    gradients_A1 = tape.gradient(loss, A1)\n",
        "    gradients_b1 = tape.gradient(loss, bias1)\n",
        "    gradients_A2 = tape.gradient(loss, A2)\n",
        "    gradients_b2 = tape.gradient(loss, bias2)\n",
        "\n",
        "    # Update the weights and bias variables of the model.\n",
        "    optimizer.apply_gradients(zip([gradients_A1, gradients_b1, gradients_A2, gradients_b2],\n",
        "                                  [A1, bias1, A2, bias2]))\n",
        "\n",
        "    if i % 500 == 0:\n",
        "        print('Iteration: {}, Loss: {}'.format(i, loss))"
      ],
      "metadata": {
        "colab": {
          "base_uri": "https://localhost:8080/"
        },
        "id": "Mr3zBy7etNyZ",
        "outputId": "4b10b55a-5307-4446-c96a-ecb6c434d625"
      },
      "execution_count": null,
      "outputs": [
        {
          "output_type": "stream",
          "name": "stderr",
          "text": [
            "WARNING:tensorflow:\n",
            "The following Variables were used a Lambda layer's call (lambda_2), but\n",
            "are not present in its tracked objects:\n",
            "  <tf.Variable 'Variable:0' shape=(9, 81) dtype=float32>\n",
            "  <tf.Variable 'Variable:0' shape=(81,) dtype=float32>\n",
            "It is possible that this is intended behavior, but it is more likely\n",
            "an omission. This is a strong indication that this layer should be\n",
            "formulated as a subclassed Layer rather than a Lambda layer.\n",
            "WARNING:tensorflow:\n",
            "The following Variables were used a Lambda layer's call (lambda_3), but\n",
            "are not present in its tracked objects:\n",
            "  <tf.Variable 'Variable:0' shape=(81, 9) dtype=float32>\n",
            "  <tf.Variable 'Variable:0' shape=(9,) dtype=float32>\n",
            "It is possible that this is intended behavior, but it is more likely\n",
            "an omission. This is a strong indication that this layer should be\n",
            "formulated as a subclassed Layer rather than a Lambda layer.\n"
          ]
        },
        {
          "output_type": "stream",
          "name": "stdout",
          "text": [
            "Iteration: 0, Loss: 6.431041240692139\n",
            "Iteration: 500, Loss: 2.016533851623535\n",
            "Iteration: 1000, Loss: 1.6385409832000732\n",
            "Iteration: 1500, Loss: 1.755265712738037\n",
            "Iteration: 2000, Loss: 1.5266941785812378\n",
            "Iteration: 2500, Loss: 1.619760274887085\n",
            "Iteration: 3000, Loss: 1.5771849155426025\n",
            "Iteration: 3500, Loss: 1.320859670639038\n",
            "Iteration: 4000, Loss: 1.182477593421936\n",
            "Iteration: 4500, Loss: 1.0673573017120361\n",
            "Iteration: 5000, Loss: 1.1314177513122559\n",
            "Iteration: 5500, Loss: 1.1016783714294434\n",
            "Iteration: 6000, Loss: 1.2095882892608643\n",
            "Iteration: 6500, Loss: 0.9774430990219116\n",
            "Iteration: 7000, Loss: 1.1682740449905396\n",
            "Iteration: 7500, Loss: 1.0042903423309326\n",
            "Iteration: 8000, Loss: 0.9091327786445618\n",
            "Iteration: 8500, Loss: 0.9796607494354248\n",
            "Iteration: 9000, Loss: 1.018488883972168\n",
            "Iteration: 9500, Loss: 0.9101143479347229\n"
          ]
        }
      ]
    },
    {
      "cell_type": "code",
      "source": [
        "import matplotlib.pyplot as plt\n",
        "plt.plot(loss_vec, 'k-', label='Loss')\n",
        "plt.title('Loss (MSE) per Generation')\n",
        "plt.xlabel('Generation')\n",
        "plt.ylabel('Loss')\n",
        "plt.show()"
      ],
      "metadata": {
        "colab": {
          "base_uri": "https://localhost:8080/",
          "height": 295
        },
        "id": "BhxLo3zQt73B",
        "outputId": "2054e470-e3c1-441d-c045-1c22018daa5d"
      },
      "execution_count": null,
      "outputs": [
        {
          "output_type": "display_data",
          "data": {
            "text/plain": [
              "<Figure size 432x288 with 1 Axes>"
            ],
            "image/png": "[encoded data removed]"
          },
          "metadata": {
            "needs_background": "light"
          }
        }
      ]
    },
    {
      "cell_type": "markdown",
      "source": [
        "In the above plot, we did plot the loss over the training steps.\n",
        "To test the model, we do need to see how it performs on the test board that we removed from the training set. We are hoping that the model can generalize and predict the optimal index for moving, which will be index number 6 and most of the model will succeed."
      ],
      "metadata": {
        "id": "Qncvc-lkt2et"
      }
    },
    {
      "cell_type": "code",
      "source": [
        "# Make Prediction:\n",
        "test_boards = [test_board]\n",
        "logits = model.predict(test_boards)\n",
        "predictions = tf.argmax(logits, 1)\n",
        "print(predictions)"
      ],
      "metadata": {
        "colab": {
          "base_uri": "https://localhost:8080/"
        },
        "id": "cOEyIJWLtS75",
        "outputId": "dc73a598-8f4e-451f-dc07-86f3a8f18d59"
      },
      "execution_count": null,
      "outputs": [
        {
          "output_type": "stream",
          "name": "stdout",
          "text": [
            "tf.Tensor([6], shape=(1,), dtype=int64)\n"
          ]
        }
      ]
    },
    {
      "cell_type": "markdown",
      "source": [
        "To evaluate our mpodel, we do need to play against our trained model. To do this we need to create a function that will check for a win. Thous way, our program will know when to stop asking for more moves."
      ],
      "metadata": {
        "id": "RVx4tsRVuMDE"
      }
    },
    {
      "cell_type": "code",
      "source": [
        "# Declare function to check for win\n",
        "def check(board):\n",
        "    wins = [[0, 1, 2], [3, 4, 5], [6, 7, 8], [0, 3, 6], [1, 4, 7], [2, 5, 8], [0, 4, 8], [2, 4, 6]]\n",
        "    for ix in range(len(wins)):\n",
        "        if board[wins[ix][0]] == board[wins[ix][1]] == board[wins[ix][2]] == 1.:\n",
        "            return 1\n",
        "        elif board[wins[ix][0]] == board[wins[ix][1]] == board[wins[ix][2]] == -1.:\n",
        "            return -1\n",
        "    return 0"
      ],
      "metadata": {
        "id": "DbwldKACuYmy"
      },
      "execution_count": null,
      "outputs": []
    },
    {
      "cell_type": "markdown",
      "source": [
        "Now we can loop through and play a game with out model. We can start with a blank board (all zeros). We will ask the user to input an index (0-8) of where to play and we can feed taht into the model for a prediction. For the model's move, we can take the largest available  prediction that is also an open space."
      ],
      "metadata": {
        "id": "Hf1BRHJ5vBxH"
      }
    },
    {
      "cell_type": "code",
      "source": [
        "game_tracker = [0., 0., 0., 0., 0., 0., 0., 0., 0.]\n",
        "win_logical = False\n",
        "num_moves = 0\n",
        "while not win_logical:\n",
        "    player_index = input('Input index of your move (0-8): ')\n",
        "    num_moves += 1\n",
        "    # Add player move to game\n",
        "    game_tracker[int(player_index)] = 1.\n",
        "    \n",
        "    # Get model's move by first getting all the logits for each index\n",
        "    [potential_moves] = model(np.array([game_tracker], dtype=float))\n",
        "    # Now find allowed moves (where game tracker values = 0.0)\n",
        "    allowed_moves = [ix for ix, x in enumerate(game_tracker) if x == 0.0]\n",
        "    # Find best move by taking argmax of logits if they are in allowed moves\n",
        "    model_move = np.argmax([x if ix in allowed_moves else -999.0 for ix, x in enumerate(potential_moves)])\n",
        "    \n",
        "    # Add model move to game\n",
        "    game_tracker[int(model_move)] = -1.\n",
        "    print('Model has moved')\n",
        "    print_board(game_tracker)\n",
        "    # Now check for win or too many moves\n",
        "    if check(game_tracker) == -1 or num_moves >= 5:\n",
        "        print('Game Over!')\n",
        "        win_logical = True\n",
        "    elif check(game_tracker) == 1:\n",
        "        print('Congratulations, You won!')\n",
        "        win_logical = True"
      ],
      "metadata": {
        "colab": {
          "base_uri": "https://localhost:8080/"
        },
        "id": "gnXID73XvAkZ",
        "outputId": "21417062-73c0-4ef8-f78f-c71d2c4c8ed2"
      },
      "execution_count": null,
      "outputs": [
        {
          "output_type": "stream",
          "name": "stdout",
          "text": [
            "Input index of your move (0-8): 1\n",
            "Model has moved\n",
            " O | X |  \n",
            "___________\n",
            "   |   |  \n",
            "___________\n",
            "   |   |  \n",
            "Input index of your move (0-8): 3\n",
            "Model has moved\n",
            " O | X |  \n",
            "___________\n",
            " X |   |  \n",
            "___________\n",
            "   |   | O\n",
            "Input index of your move (0-8): 6\n",
            "Model has moved\n",
            " O | X | O\n",
            "___________\n",
            " X |   |  \n",
            "___________\n",
            " X |   | O\n",
            "Input index of your move (0-8): 7\n",
            "Model has moved\n",
            " O | X | O\n",
            "___________\n",
            " X | O |  \n",
            "___________\n",
            " X | X | O\n",
            "Game Over!\n"
          ]
        }
      ]
    },
    {
      "cell_type": "markdown",
      "source": [
        "As can be seen from the above result, Our model is not perfect and we can  beat the model easily"
      ],
      "metadata": {
        "id": "Ixqmfa1LxhS4"
      }
    },
    {
      "cell_type": "markdown",
      "source": [
        "We did train a neural network to play Tic-Tac-Toe by feeding in board positions and a 9-dimensional vector and predicted the optimal response. We only had to feed in a few possible Tic-Tac-Toe boards and apply random trnasformations to each board to increase the training set size.\n",
        "\n",
        "To test our algorithm we dod remove all instances of 1 specific board and saw whether our model could generalize to predict the optimal response. Finally we did play a same game against our model. This model is not perfect yet. using more data or applying a more complex neural network architecture could be done to improve it. But the better thing we can do is to change the algorithm to reinforcement learning."
      ],
      "metadata": {
        "id": "Pgf-zfU5xqHE"
      }
    }
  ]
}