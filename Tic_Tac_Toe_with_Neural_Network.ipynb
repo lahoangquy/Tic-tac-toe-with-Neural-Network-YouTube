{
  "nbformat": 4,
  "nbformat_minor": 0,
  "metadata": {
    "colab": {
      "name": "Tic-Tac-Toe with Neural Network.ipynb",
      "provenance": [],
      "collapsed_sections": []
    },
    "kernelspec": {
      "name": "python3",
      "display_name": "Python 3"
    },
    "language_info": {
      "name": "python"
    }
  },
  "cells": [
    {
      "cell_type": "markdown",
      "source": [
        "This project will show how adaptable neural networks can be, we will now attemp to use a neural network to learn the optimal move for Tic-Tac-Toe. We will approach this knowing that Tic-Tac-Toe is a deterministic game and that the optimal moves are already known.\n",
        "\n",
        "To train our model, we will use a list of board positions followed by the optimal response for a number of different boards. We can reduce the amount of boards to train on by considering only board position that are differnt with regard to symmetry. The non-identity transformations of a Tic-Tac-Toe board are a rotation (in either direction ) of 90 degress, 180 degrees and 270 degress a horizontal reflection and a vertical reflection. Given this idea, we will use a shortlist of boards with optimal move, apply 2 random transformations, and then feed that into our neural network for learning. \n",
        "\n",
        "Since Tic-Tac-Toe is a deterministic game, it is worth noting that whoever goes first should either win or draw. We will hope a model that can respond to our moves optimally and ultimately result in a raw.\n",
        "\n",
        "To check how our model is performing, we will do 2 things. The first check we will perform is to remove a position and an optimal move row from our training set. This will allow us to see if the neural network can generalize a move it has not seen before. The second way to evaluate our model is to actually play a game agasint it at the end"
      ],
      "metadata": {
        "id": "EdRvTbCmKKMt"
      }
    },
    {
      "cell_type": "code",
      "execution_count": null,
      "metadata": {
        "id": "HRoKOxi9JcBq"
      },
      "outputs": [],
      "source": [
        ""
      ]
    }
  ]
}